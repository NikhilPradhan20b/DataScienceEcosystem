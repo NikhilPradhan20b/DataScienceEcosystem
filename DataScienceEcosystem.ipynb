{
 "cells": [
  {
   "cell_type": "markdown",
   "id": "ebccf7da-b1b8-4140-82ef-3f59b0d96da5",
   "metadata": {
    "tags": []
   },
   "source": [
    "# Data Science Tools and Ecosystem"
   ]
  },
  {
   "cell_type": "markdown",
   "id": "49521af7-5604-4052-8987-33a398cecbbf",
   "metadata": {},
   "source": [
    "In this notebook, Data Science Tools and Ecosystem are summarized."
   ]
  },
  {
   "cell_type": "markdown",
   "id": "7115bebe-c215-45c2-94d0-2885fba9b86b",
   "metadata": {},
   "source": [
    "***Objectives:***\n",
    "\n",
    "* List popular languages for Data Science\n",
    "* List commnly used libraries used for Data Scientists\n",
    "* List open source data science tools\n",
    "* Evaluation of arithmetic expressions in Python"
   ]
  },
  {
   "cell_type": "markdown",
   "id": "3195bd4e-aa1d-4cee-bce8-63d11ac52d31",
   "metadata": {},
   "source": [
    "Some of the popular languages that Data Scientists use are:\n",
    "1. Python\n",
    "2. R\n",
    "3. Julia"
   ]
  },
  {
   "cell_type": "markdown",
   "id": "a930f39a-380b-40f1-a080-5df73f69d22d",
   "metadata": {},
   "source": [
    "Some of the commonly used libraries used by Data Scientists include:\n",
    "1. Numpy\n",
    "2. Pandas\n",
    "3. Scikit-Learn\n",
    "4. Keras"
   ]
  },
  {
   "cell_type": "markdown",
   "id": "7ad6cad7-7ec4-4fd4-b346-8c87c5143dba",
   "metadata": {},
   "source": [
    "|Data Science Tools|\n",
    "|---------------|\n",
    "|Jupyter Notebook|\n",
    "|MySQL|\n",
    "|Apache Airflow|\n",
    "|Apache Spark|\n",
    "|Hadoop|"
   ]
  },
  {
   "cell_type": "markdown",
   "id": "bb319d2a-21d4-49d7-965f-56fbcb47b0c7",
   "metadata": {},
   "source": [
    "### Below are a few examples of evaluating arithmetic expressions in Python"
   ]
  },
  {
   "cell_type": "code",
   "execution_count": 1,
   "id": "c95a4227-0934-436a-ab37-d5c062d3fd67",
   "metadata": {
    "tags": []
   },
   "outputs": [
    {
     "data": {
      "text/plain": [
       "17"
      ]
     },
     "execution_count": 1,
     "metadata": {},
     "output_type": "execute_result"
    }
   ],
   "source": [
    "#This a simple arithmetic expression to mutiply then add integers\n",
    "(3*4)+5"
   ]
  },
  {
   "cell_type": "code",
   "execution_count": 2,
   "id": "48a5524b-19d8-41de-a17a-400c5af7485f",
   "metadata": {
    "tags": []
   },
   "outputs": [
    {
     "data": {
      "text/plain": [
       "3.3333333333333335"
      ]
     },
     "execution_count": 2,
     "metadata": {},
     "output_type": "execute_result"
    }
   ],
   "source": [
    "#This will convert 200 minutes to hours by diving by 60\n",
    "200/60"
   ]
  },
  {
   "cell_type": "markdown",
   "id": "bdcede6e-73a1-431a-9e59-735444a824c7",
   "metadata": {},
   "source": [
    "## Author\n",
    "Nikhil Pradhan"
   ]
  },
  {
   "cell_type": "code",
   "execution_count": null,
   "id": "0d84ad06-b2bd-4d11-9921-c26e6dbda55e",
   "metadata": {},
   "outputs": [],
   "source": []
  }
 ],
 "metadata": {
  "kernelspec": {
   "display_name": "Python",
   "language": "python",
   "name": "conda-env-python-py"
  },
  "language_info": {
   "codemirror_mode": {
    "name": "ipython",
    "version": 3
   },
   "file_extension": ".py",
   "mimetype": "text/x-python",
   "name": "python",
   "nbconvert_exporter": "python",
   "pygments_lexer": "ipython3",
   "version": "3.7.12"
  }
 },
 "nbformat": 4,
 "nbformat_minor": 5
}
